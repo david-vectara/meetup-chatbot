{
 "cells": [
  {
   "cell_type": "markdown",
   "id": "1dfc59c2-7a2b-4fa2-aafa-e3a6ae0e8ee5",
   "metadata": {},
   "source": [
    "# Build our Presentation Corpus\n",
    "We'll now build our presentation corpus, this is where we'll put existing presentations. Normally we'll crawl all the existing talks but here we've just taken the last few.\n",
    "\n",
    "A key thing for this corpus is to include five filter attributes, which demonstrate the power of Semantic Search combined with Key-Value searches. We will define four filter attributes below:\n",
    "\n",
    "* **City:** Where the presentation\n",
    "* **Format:** Meetup or Conference\n",
    "* **Date:** When the meetup occured / will occur\n",
    "* **Status:** Proposed or Accepted\n",
    "* **Presenters:** List of presenters"
   ]
  },
  {
   "cell_type": "code",
   "execution_count": 9,
   "id": "30282716-d0d9-43c5-b813-e3ed505185a3",
   "metadata": {},
   "outputs": [
    {
     "name": "stderr",
     "output_type": "stream",
     "text": [
      "10:59:08 +1000:Factory                             INFO:initializing builder\n",
      "10:59:08 +1000:Factory                             INFO:Factory will load configuration from home directory\n",
      "10:59:08 +1000:HomeConfigLoader                    INFO:Loading configuration from users home directory [C:\\Users\\david]\n",
      "10:59:08 +1000:HomeConfigLoader                    INFO:Loading default configuration [default]\n",
      "10:59:08 +1000:HomeConfigLoader                    INFO:Parsing config\n",
      "10:59:08 +1000:root                                INFO:We are processing authentication type [OAuth2]\n",
      "10:59:08 +1000:root                                INFO:initializing Client\n",
      "10:59:08 +1000:CorpusManager                       INFO:Performing account checks before corpus creation for name [meetup-presentations]\n",
      "10:59:10 +1000:RequestUtil                         INFO:URL for operation list-corpora is: https://api.vectara.io/v1/list-corpora\n",
      "10:59:12 +1000:CorpusManager                       INFO:Checking corpus with name [meetup-presentations]\n",
      "10:59:12 +1000:CorpusManager                       INFO:We found the following corpora with name [meetup-presentations]: [724]\n",
      "10:59:12 +1000:CorpusManager                       INFO:We found existing corpus with name [meetup-presentations]\n",
      "10:59:12 +1000:CorpusManager                       INFO:Deleting existing corpus named [meetup-presentations]\n",
      "10:59:12 +1000:RequestUtil                         INFO:URL for operation list-corpora is: https://api.vectara.io/v1/list-corpora\n",
      "10:59:14 +1000:CorpusManager                       INFO:We found [1] potential matches\n",
      "10:59:14 +1000:CorpusManager                       INFO:Deleting existing corpus with id [724]\n",
      "10:59:14 +1000:RequestUtil                         INFO:URL for operation delete-corpus is: https://api.vectara.io/v1/delete-corpus\n",
      "10:59:17 +1000:CorpusManager                       INFO:Account checks complete, creating the new corpus\n",
      "10:59:17 +1000:RequestUtil                         INFO:URL for operation create-corpus is: https://api.vectara.io/v1/create-corpus\n",
      "10:59:20 +1000:AdminService                        INFO:Created new corpus with 725\n"
     ]
    }
   ],
   "source": [
    "from vectara_client.core import Factory\n",
    "from vectara_client.admin import CorpusBuilder\n",
    "import logging\n",
    "\n",
    "logging.basicConfig(format='%(asctime)s:%(name)-35s %(levelname)s:%(message)s', level=logging.INFO, datefmt='%H:%M:%S %z')\n",
    "logging.getLogger(\"OAuthUtil\").setLevel(logging.WARNING)\n",
    "logger = logging.getLogger(__name__)\n",
    "\n",
    "client = Factory().build()\n",
    "manager = client.corpus_manager\n",
    "\n",
    "corpus = (CorpusBuilder(\"meetup-presentations\")\n",
    "          .description(\"This is where we put all of our meetup presentations\")\n",
    "          .add_attribute(\"city\", \"The city where the presentation occured / will occur\")\n",
    "          .add_attribute(\"format\", \"Meetup or Conference\")\n",
    "          .add_attribute(\"date\", \"When the meetup occured / will occur\")\n",
    "          .add_attribute(\"status\", \"Proposed / Accepted / Rejected\")\n",
    "          .add_attribute(\"presenters\", \"Who were the presenter\", type=\"text\")\n",
    "          .build()\n",
    "         )\n",
    "corpus_id = manager.create_corpus(corpus, delete_existing=True)"
   ]
  },
  {
   "cell_type": "markdown",
   "id": "af0b3069-6265-44a8-9876-2cbe75dc130b",
   "metadata": {},
   "source": [
    "## Load our Corpus\n",
    "We'll now load our corpus with our data in the JSON format"
   ]
  },
  {
   "cell_type": "code",
   "execution_count": 10,
   "id": "f11d234c-477f-44cb-851c-56706faf14ea",
   "metadata": {},
   "outputs": [
    {
     "name": "stderr",
     "output_type": "stream",
     "text": [
      "11:00:10 +1000:IndexerService                      INFO:Headers: {\"c\": \"1623270172\", \"o\": \"725\"}\n",
      "meetup_1.docx: 14.1kB [00:03, 4.29kB/s]                                                                                \n",
      "11:00:14 +1000:IndexerService                      INFO:Headers: {\"c\": \"1623270172\", \"o\": \"725\"}\n",
      "meetup_2.docx: 14.4kB [00:02, 5.30kB/s]                                                                                \n",
      "11:00:17 +1000:IndexerService                      INFO:Headers: {\"c\": \"1623270172\", \"o\": \"725\"}\n",
      "meetup_3.docx: 14.4kB [00:03, 4.07kB/s]                                                                                \n"
     ]
    }
   ],
   "source": [
    "from pathlib import Path\n",
    "import json\n",
    "\n",
    "with open(Path(\"../resources/meetups/meetups.json\"), \"r\") as f:\n",
    "    for line in f.readlines():\n",
    "        presentation = json.loads(line)\n",
    "\n",
    "        upload_path = Path(f\"../resources/meetups/meetup_{presentation['id']}.docx\")\n",
    "        client.indexer_service.upload(corpus_id, upload_path, metadata=presentation)\n",
    "    "
   ]
  },
  {
   "cell_type": "markdown",
   "id": "bea31f0e-e13e-4a50-803e-3b8d0a1106ad",
   "metadata": {},
   "source": [
    "## Run Tests\n",
    "We'll now check we have information available to query"
   ]
  },
  {
   "cell_type": "code",
   "execution_count": 12,
   "id": "c3e9fcde-2362-4a75-9bb5-026f749ed5a5",
   "metadata": {},
   "outputs": [
    {
     "name": "stderr",
     "output_type": "stream",
     "text": [
      "11:02:11 +1000:RequestUtil                         INFO:URL for operation query is: https://api.vectara.io/v1/query\n",
      "11:02:18 +1000:__main__                            INFO:Response was: The speech was about building a grounded GenAI solution with Vectara, which was delivered in a format consisting of 33% slides, 33% UI console, and 33% Python Notebook, with a touch of humor [1][2][4]. The speaker was David Levy, the Head of Field Engineering APAC for Vectara. He formerly worked at Databricks/Cloudera and has experience as a tech lead on projects for numerous well-known public sector organizations [2][3][5]. His focus now lies in implementing simple operational solutions into production [3][5].\n"
     ]
    }
   ],
   "source": [
    "response = client.query_service.query(\n",
    "    \"What was the speech about?\", corpus_id, summary=True, \n",
    "    summarizer=\"vectara-summary-ext-v1.3.0\", summary_result_count=5,\n",
    "    metadata=\"doc.presenters = 'David Levy'\")\n",
    "logger.info(f\"Response was: {response.summary[0].text}\")"
   ]
  }
 ],
 "metadata": {
  "kernelspec": {
   "display_name": "Python 3 (ipykernel)",
   "language": "python",
   "name": "python3"
  },
  "language_info": {
   "codemirror_mode": {
    "name": "ipython",
    "version": 3
   },
   "file_extension": ".py",
   "mimetype": "text/x-python",
   "name": "python",
   "nbconvert_exporter": "python",
   "pygments_lexer": "ipython3",
   "version": "3.12.1"
  }
 },
 "nbformat": 4,
 "nbformat_minor": 5
}
