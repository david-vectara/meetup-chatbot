{
 "cells": [
  {
   "cell_type": "markdown",
   "id": "708f167b-8267-4a7c-8021-5630200463fa",
   "metadata": {},
   "source": [
    "![Vectara Logo](./resources/vectara-logo.jpg \"Title\")\n",
    "\n",
    "# Testing - Guardrails\n",
    "\n",
    "We'll now test that we can generate a summarization using only human created data"
   ]
  },
  {
   "cell_type": "markdown",
   "id": "695a7416-0dea-4563-93be-c329eceb9d7b",
   "metadata": {},
   "source": [
    "## Initialize the client"
   ]
  },
  {
   "cell_type": "code",
   "execution_count": null,
   "id": "49a34244-5e39-4e14-abba-56f3a77e6b30",
   "metadata": {
    "ExecuteTime": {
     "end_time": "2024-05-01T04:35:27.739743900Z",
     "start_time": "2024-05-01T04:35:27.281828100Z"
    }
   },
   "outputs": [],
   "source": [
    "from vectara_client.core import Factory\n",
    "from vectara_client.admin import CorpusBuilder\n",
    "from vectara_client.util import render_markdown\n",
    "from IPython.display import display, Markdown\n",
    "from pathlib import Path\n",
    "import logging\n",
    "import json\n",
    "\n",
    "logging.basicConfig(format='%(asctime)s:%(name)-35s %(levelname)s:%(message)s', level=logging.INFO, datefmt='%H:%M:%S %z')\n",
    "\n",
    "logger = logging.getLogger(__name__)\n",
    "\n",
    "client = Factory().build()\n",
    "manager = client.corpus_manager"
   ]
  },
  {
   "cell_type": "markdown",
   "id": "27722c97-2c55-4d19-a7f5-ed19d1c680c4",
   "metadata": {},
   "source": [
    "## Find our corpus by name\n",
    "We look for our corpus using the name filter available on the list-corpus API.\n",
    "\n",
    "This can match longer names, so for example, \"my-long-name\" would be returned if we specified \"long-name\" so we \n",
    "do a client side check for name equivalence."
   ]
  },
  {
   "cell_type": "code",
   "execution_count": null,
   "id": "53c4f14a-3161-44c4-aa43-ad57f545c10f",
   "metadata": {
    "ExecuteTime": {
     "end_time": "2024-05-01T04:35:36.539488Z",
     "start_time": "2024-05-01T04:35:34.144414300Z"
    }
   },
   "outputs": [],
   "source": [
    "corpus_id = manager.find_corpus_by_name(\"prompt-guardrails\")\n",
    "\n",
    "def render_response(query, response, show_search_results=True):\n",
    "    rendered = render_markdown(query, response, show_search_results=show_search_results)\n",
    "    display(Markdown(rendered))"
   ]
  },
  {
   "cell_type": "markdown",
   "id": "8dcd6d12514593df",
   "metadata": {
    "collapsed": false,
    "jupyter": {
     "outputs_hidden": false
    }
   },
   "source": [
    "## Build Our Prompt\n",
    "We'll now build our prompt using the guides available for Vectara's prompt engine. We'll put forward the following scope:\n",
    "\n",
    "* The summary is a Visa Applications Chatbot\n",
    "* It should only answer questions related to Visa Applications\n",
    "* It should not answer questions about activites within the US unless it relates to a clause in the Visa Application.\n",
    "* Any question unrelated to this should generate a response that states the chatbot's purpose \n"
   ]
  },
  {
   "cell_type": "code",
   "execution_count": null,
   "id": "f43fec6f699d4bd5",
   "metadata": {
    "ExecuteTime": {
     "end_time": "2024-05-01T04:44:45.143663300Z",
     "start_time": "2024-05-01T04:44:45.133429900Z"
    },
    "collapsed": false,
    "jupyter": {
     "outputs_hidden": false
    }
   },
   "outputs": [],
   "source": [
    "prompt = (\n",
    "    '[ {\"role\": \"system\", \"content\": \"You are a US Visa Applications Chatbot who takes the search results and summarizes them as a coherent response. only answer questions related to Visa Applications.'\n",
    "    ' Only answer question about activities or places within the US if it relates to a violation with the Visa Application.'\n",
    "    ' Do not answer political questions.'\n",
    "    ' Only use information provided in this chat. Respond in the language denoted by ISO 639 code \\\\\"$vectaraLangCode\\\\\".\"}, \\n'  # ,\\n'\n",
    "    '#foreach ($qResult in $vectaraQueryResults) \\n'\n",
    "    '   #if ($foreach.first) \\n'\n",
    "    '   {\"role\": \"user\", \"content\": \"Search for \\\\\"$esc.java(${vectaraQuery})\\\\\", and give me the first search result.\"}, \\n'\n",
    "    '   {\"role\": \"assistant\", \"content\": \"$esc.java(${qResult.getText()})\" }, \\n'\n",
    "    '   #else \\n'\n",
    "    '   {\"role\": \"user\", \"content\": \"Give me the \\\\\"$vectaraIdxWord[$foreach.index]\\\\\" search result.\"}, \\n'\n",
    "    '   {\"role\": \"assistant\", \"content\": \"$esc.java(${qResult.getText()})\" }, \\n'\n",
    "    '   #end \\n'\n",
    "    ' #end \\n'\n",
    "    '{\"role\": \"user\", \"content\": \"Generate a detailed answer (that is no more than 300 words) for the query \\\\\"$esc.java(${vectaraQuery})\\\\\" solely based on the search results in this chat. '\n",
    "    'You must only use information from the provided results as long as it relates to Visa Applications. '\n",
    "    'Cite search results using \\\\\"[number]\\\\\" notation. Only cite the most relevant results that answer the question accurately. '\n",
    "    'Do not answer questions about activites within the US unless it relates to a clause in the Visa Application.'\n",
    "    'Do not answer political questions.\" } ]')\n"
   ]
  },
  {
   "cell_type": "code",
   "execution_count": null,
   "id": "0a98914d-59bc-43d4-aed1-aa89b444f40c",
   "metadata": {
    "ExecuteTime": {
     "end_time": "2024-05-01T04:42:22.803538Z",
     "start_time": "2024-05-01T04:42:11.909180600Z"
    }
   },
   "outputs": [],
   "source": [
    "query_service = client.query_service\n",
    "\n",
    "query = \"Can I do work whilst in the US on a tourist Visa?\"\n",
    "response = query_service.query(query, corpus_id, summary=True, summarizer=\"vectara-summary-ext-v1.3.0\", promptText=prompt)\n",
    "logger.info(\"Ready to render response\")\n",
    "render_response(query, response)"
   ]
  },
  {
   "cell_type": "markdown",
   "id": "25afc4fe07457a10",
   "metadata": {
    "collapsed": false,
    "jupyter": {
     "outputs_hidden": false
    }
   },
   "source": [
    "## Testing - Out of Scope Questions\n",
    "We'll now test our engine with a question which is related to \"fun\" and is well out of scope for this chatbot."
   ]
  },
  {
   "cell_type": "code",
   "execution_count": null,
   "id": "c49da230-953b-471d-b163-3c1f2a617efa",
   "metadata": {
    "ExecuteTime": {
     "end_time": "2024-05-01T04:45:01.160338100Z",
     "start_time": "2024-05-01T04:44:49.984462Z"
    }
   },
   "outputs": [],
   "source": [
    "query = \"What is something fun to visit whilst in the US?\"\n",
    "response = query_service.query(query, corpus_id, summary=True, summarizer=\"vectara-summary-ext-v1.3.0\", promptText=prompt)\n",
    "render_response(query, response)"
   ]
  },
  {
   "cell_type": "markdown",
   "id": "8dac4e4aec1e5ec4",
   "metadata": {
    "collapsed": false,
    "jupyter": {
     "outputs_hidden": false
    }
   },
   "source": [
    "## Testing - Political Questions\n",
    "We'll now ask a geo-political question, again this is well out of scope for our intended purpose.\n",
    "\n",
    "We will use GPT4 for our summarizer."
   ]
  },
  {
   "cell_type": "code",
   "execution_count": null,
   "id": "4d0d4ad5bc94e95f",
   "metadata": {
    "ExecuteTime": {
     "end_time": "2024-05-01T04:45:23.012137900Z",
     "start_time": "2024-05-01T04:45:18.930960800Z"
    },
    "collapsed": false,
    "jupyter": {
     "outputs_hidden": false
    }
   },
   "outputs": [],
   "source": [
    "query = \"Are US departments largely democratic or republican?\"\n",
    "response = query_service.query(query, corpus_id, summary=True, summarizer=\"vectara-summary-ext-v1.3.0\", promptText=prompt)\n",
    "render_response(query, response)"
   ]
  }
 ],
 "metadata": {
  "kernelspec": {
   "display_name": "Python 3 (ipykernel)",
   "language": "python",
   "name": "python3"
  },
  "language_info": {
   "codemirror_mode": {
    "name": "ipython",
    "version": 3
   },
   "file_extension": ".py",
   "mimetype": "text/x-python",
   "name": "python",
   "nbconvert_exporter": "python",
   "pygments_lexer": "ipython3",
   "version": "3.12.1"
  }
 },
 "nbformat": 4,
 "nbformat_minor": 5
}
