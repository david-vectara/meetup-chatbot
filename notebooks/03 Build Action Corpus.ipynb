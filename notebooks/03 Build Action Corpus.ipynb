{
 "cells": [
  {
   "cell_type": "markdown",
   "id": "7414f656-e652-46b7-899c-c9ebde7c4f7b",
   "metadata": {},
   "source": [
    "# Build Action Corpus\n",
    "\n",
    "We'll now build our corpus which stores actions that our bot can do. We\n",
    "want to use Vectara as a recommendation engine for our Webhook when we\n",
    "ask for a different task. We'll also use this to guide responses when the user\n",
    "first starts chatting.\n",
    "\n",
    "For this corpus we'll put in the following fields:\n",
    "* **action-key:** This is our \"key\" which will trigger different actions within our Webhook\n",
    "* **hidden:** Some actions should not be explicitly shown to a user, such as small talk\n",
    "* **name:** This is the \"human friendly\" name for the action, which should be listed when the user first enters.\n",
    "\n",
    "Each action will have a description of what it is to do - if the user enters a phrase which is similar, the system will ask the user whether they want to do \"X\" action."
   ]
  },
  {
   "cell_type": "markdown",
   "id": "cb350b20-a0de-4a93-ad11-2a2e6bb9047b",
   "metadata": {},
   "source": [
    "## Initialize our Client\n",
    "Once again, we initialize our client using implicit configuration.\n",
    "\n",
    "We also initialize our logger and mute the OAuthUtil."
   ]
  },
  {
   "cell_type": "code",
   "execution_count": 1,
   "id": "ae05860f-f984-437d-9ad9-4af9a60eb834",
   "metadata": {},
   "outputs": [
    {
     "name": "stderr",
     "output_type": "stream",
     "text": [
      "13:23:15 +1000:Factory                             INFO:initializing builder\n",
      "13:23:15 +1000:Factory                             INFO:Factory will load configuration from home directory\n",
      "13:23:15 +1000:HomeConfigLoader                    INFO:Loading configuration from users home directory [C:\\Users\\david]\n",
      "13:23:15 +1000:HomeConfigLoader                    INFO:Loading default configuration [default]\n",
      "13:23:15 +1000:HomeConfigLoader                    INFO:Parsing config\n",
      "13:23:15 +1000:root                                INFO:We are processing authentication type [OAuth2]\n",
      "13:23:15 +1000:root                                INFO:initializing Client\n"
     ]
    }
   ],
   "source": [
    "from vectara_client.core import Factory\n",
    "from vectara_client.admin import CorpusBuilder\n",
    "import logging\n",
    "\n",
    "logging.basicConfig(format='%(asctime)s:%(name)-35s %(levelname)s:%(message)s', level=logging.INFO, datefmt='%H:%M:%S %z')\n",
    "logging.getLogger(\"OAuthUtil\").setLevel(logging.WARNING)\n",
    "logger = logging.getLogger(__name__)\n",
    "\n",
    "client = Factory().build()\n",
    "manager = client.corpus_manager\n"
   ]
  },
  {
   "cell_type": "markdown",
   "id": "4aae4f95-314f-41c8-b90e-97775fe491bb",
   "metadata": {},
   "source": [
    "## Create the Corpus\n",
    "We'll again use our CorpusBuilder to create our corpus."
   ]
  },
  {
   "cell_type": "code",
   "execution_count": 21,
   "id": "beefa855-2772-4db3-8ecf-4d192ba243cf",
   "metadata": {},
   "outputs": [
    {
     "name": "stderr",
     "output_type": "stream",
     "text": [
      "14:15:50 +1000:CorpusManager                       INFO:Performing account checks before corpus creation for name [meetup-actions]\n",
      "14:15:50 +1000:RequestUtil                         INFO:URL for operation list-corpora is: https://api.vectara.io/v1/list-corpora\n",
      "14:15:51 +1000:CorpusManager                       INFO:Checking corpus with name [meetup-actions]\n",
      "14:15:51 +1000:CorpusManager                       INFO:We found the following corpora with name [meetup-actions]: [727]\n",
      "14:15:51 +1000:CorpusManager                       INFO:We found existing corpus with name [meetup-actions]\n",
      "14:15:51 +1000:CorpusManager                       INFO:Deleting existing corpus named [meetup-actions]\n",
      "14:15:51 +1000:RequestUtil                         INFO:URL for operation list-corpora is: https://api.vectara.io/v1/list-corpora\n",
      "14:15:53 +1000:CorpusManager                       INFO:We found [1] potential matches\n",
      "14:15:53 +1000:CorpusManager                       INFO:Deleting existing corpus with id [727]\n",
      "14:15:53 +1000:RequestUtil                         INFO:URL for operation delete-corpus is: https://api.vectara.io/v1/delete-corpus\n",
      "14:15:56 +1000:CorpusManager                       INFO:Account checks complete, creating the new corpus\n",
      "14:15:56 +1000:RequestUtil                         INFO:URL for operation create-corpus is: https://api.vectara.io/v1/create-corpus\n",
      "14:15:58 +1000:AdminService                        INFO:Created new corpus with 728\n"
     ]
    }
   ],
   "source": [
    "corpus = (CorpusBuilder(\"meetup-actions\")\n",
    "         .description(\"Provides appropriate actions for user content using recommendations\")\n",
    "         .add_attribute(\"action-key\", \"This is our \\\"key\\\" which will trigger different actions within our Webhook\")\n",
    "         .add_attribute(\"hidden\", \"Whether the action is hidden from the end user\")\n",
    "         .add_attribute(\"name\",\"This is the \\\"human friendly\\\" name for the action, which should be listed when the user first enters.\")\n",
    "         .build())\n",
    "corpus_id = manager.create_corpus(corpus, delete_existing=True)"
   ]
  },
  {
   "cell_type": "markdown",
   "id": "3309b620-b805-4e1f-a77f-63bb2b29d029",
   "metadata": {},
   "source": [
    "## Load Corpus with our Actions"
   ]
  },
  {
   "cell_type": "code",
   "execution_count": 22,
   "id": "6a3e0a24-a242-4e7c-bdf7-3fcafd8b8839",
   "metadata": {},
   "outputs": [
    {
     "name": "stderr",
     "output_type": "stream",
     "text": [
      "14:16:03 +1000:__main__                            INFO:Found line:\n",
      "{\n",
      "    \"task\": \"General Information\",\n",
      "    \"key\": \"general\",\n",
      "    \"description\": \"Provide general information about DataEngBytes\",\n",
      "    \"hidden\": \"false\"\n",
      "}\n",
      "14:16:03 +1000:RequestUtil                         INFO:URL for operation index is: https://api.vectara.io/v1/index\n",
      "14:16:06 +1000:__main__                            INFO:Found line:\n",
      "{\n",
      "    \"task\": \"Meetup Information\",\n",
      "    \"key\": \"meetup-info\",\n",
      "    \"description\": \"Provide information about meetups\",\n",
      "    \"hidden\": \"false\"\n",
      "}\n",
      "14:16:06 +1000:RequestUtil                         INFO:URL for operation index is: https://api.vectara.io/v1/index\n",
      "14:16:09 +1000:__main__                            INFO:Found line:\n",
      "{\n",
      "    \"task\": \"Submit Presentation\",\n",
      "    \"key\": \"meetup-submission\",\n",
      "    \"description\": \"Submit a talk or presentation for a meetup\",\n",
      "    \"hidden\": \"false\"\n",
      "}\n",
      "14:16:09 +1000:RequestUtil                         INFO:URL for operation index is: https://api.vectara.io/v1/index\n",
      "14:16:12 +1000:__main__                            INFO:Found line:\n",
      "{\n",
      "    \"task\": \"Provide General Information\",\n",
      "    \"key\": \"overview\",\n",
      "    \"description\": \"Provides an overview of tasks\",\n",
      "    \"hidden\": \"true\"\n",
      "}\n",
      "14:16:12 +1000:RequestUtil                         INFO:URL for operation index is: https://api.vectara.io/v1/index\n"
     ]
    }
   ],
   "source": [
    "from pathlib import Path\n",
    "import json\n",
    "\n",
    "with open(Path(\"../resources/actions/bot-tasks.json\"), \"r\") as f:\n",
    "    for line in f.readlines():\n",
    "        action = json.loads(line)\n",
    "        logger.info(f\"Found line:\\n{json.dumps(action, indent=4)}\")\n",
    "\n",
    "        metadata = {\n",
    "            \"action-key\": action[\"key\"],\n",
    "            \"name\": action[\"task\"],\n",
    "            \"hidden\": action[\"hidden\"]\n",
    "        }\n",
    "        metadata_json = json.dumps(metadata)\n",
    "        \n",
    "        to_index = {\n",
    "          \"document_id\": action[\"name\"],\n",
    "          \"title\": action[\"name\"],\n",
    "          \"metadata_json\": metadata_json,\n",
    "          \"section\": [\n",
    "            {\n",
    "              \"text\": action[\"description\"]\n",
    "            }\n",
    "          ]\n",
    "        }\n",
    "\n",
    "        client.indexer_service.index_doc(corpus_id, to_index)"
   ]
  },
  {
   "cell_type": "markdown",
   "id": "a4e00c9f-9dac-456c-8a31-fef3c80ffd1e",
   "metadata": {},
   "source": [
    "## Test the Actions\n",
    "Lets confirm the \"top\" actions for different user prompts and confirm our\n",
    "recommendation engine is working as expected."
   ]
  },
  {
   "cell_type": "code",
   "execution_count": 34,
   "id": "44f43eb6-6875-495b-bc54-e27d337d4e79",
   "metadata": {},
   "outputs": [
    {
     "name": "stderr",
     "output_type": "stream",
     "text": [
      "14:36:47 +1000:RequestUtil                         INFO:URL for operation query is: https://api.vectara.io/v1/query\n",
      "14:36:49 +1000:__main__                            INFO:For user text, [I would like to submit my talk], Score [0.9997863], Action [meetup-submission]\n",
      "14:36:49 +1000:RequestUtil                         INFO:URL for operation query is: https://api.vectara.io/v1/query\n",
      "14:36:50 +1000:__main__                            INFO:For user text, [I would like to submit my talk], Score [0.9997863], Action [meetup-submission]\n",
      "14:36:50 +1000:RequestUtil                         INFO:URL for operation query is: https://api.vectara.io/v1/query\n",
      "14:36:52 +1000:__main__                            INFO:For user text, [Can we talk about DataEngBytes], Score [1.0281286], Action [general]\n",
      "14:36:52 +1000:RequestUtil                         INFO:URL for operation query is: https://api.vectara.io/v1/query\n",
      "14:36:53 +1000:__main__                            INFO:For user text, [What else can you do?], Score [0.8160754], Action [overview]\n"
     ]
    }
   ],
   "source": [
    "def check_action(query, expected_action=None, min_score=0):\n",
    "    \n",
    "    responses = client.query_service.query(query, corpus_id, semantics=\"RESPONSE\",summary=False)\n",
    "\n",
    "    response = responses.response[0]\n",
    "    \n",
    "    document_index = response.documentIndex\n",
    "    document = responses.document[document_index]\n",
    "    \n",
    "    action = \"\"\n",
    "    for metadata in document.metadata:\n",
    "        if metadata.name == \"action-key\":\n",
    "            action = metadata.value\n",
    "    \n",
    "    logger.info(f\"For user text, [{query}], Score [{response.score}], Action [{action}]\")\n",
    "    if expected_action and action != expected_action:\n",
    "        raise Exception(f\"We were expecting action [{expected_action}] but received [{action}]\")\n",
    "    if response.score < min_score:\n",
    "        raise Exception(f\"The action found was too weakly matched [{response.score}] and did not meet our minimun score of [{min_score}]\")\n",
    "\n",
    "check_action(\"I would like to submit my talk\")\n",
    "check_action(\"I would like to submit my talk\", \"meetup-submission\", .99)\n",
    "check_action(\"Can we talk about DataEngBytes\", \"general\", .99)\n",
    "check_action(\"What else can you do?\", \"overview\", .80)\n"
   ]
  },
  {
   "cell_type": "code",
   "execution_count": null,
   "id": "1c1c2ce4-31fa-4881-b092-06d5e4ad01ed",
   "metadata": {},
   "outputs": [],
   "source": []
  }
 ],
 "metadata": {
  "kernelspec": {
   "display_name": "Python 3 (ipykernel)",
   "language": "python",
   "name": "python3"
  },
  "language_info": {
   "codemirror_mode": {
    "name": "ipython",
    "version": 3
   },
   "file_extension": ".py",
   "mimetype": "text/x-python",
   "name": "python",
   "nbconvert_exporter": "python",
   "pygments_lexer": "ipython3",
   "version": "3.12.1"
  }
 },
 "nbformat": 4,
 "nbformat_minor": 5
}
