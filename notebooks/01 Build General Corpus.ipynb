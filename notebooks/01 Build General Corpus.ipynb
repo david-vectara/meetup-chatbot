{
 "cells": [
  {
   "cell_type": "markdown",
   "id": "1112d4f1-ce6b-4bf7-9530-8710805d97b6",
   "metadata": {},
   "source": [
    "# Build General Corpus\n",
    "\n",
    "The first step is to build our general corpus, this is our static asset. We've taken some material from the meetup web page. We'll now use our \"unnofficial\" SDK to perform this task."
   ]
  },
  {
   "cell_type": "code",
   "execution_count": 1,
   "id": "6b7b627a-541b-4479-9a94-2601c352bbb4",
   "metadata": {},
   "outputs": [
    {
     "name": "stdout",
     "output_type": "stream",
     "text": [
      "Note: you may need to restart the kernel to use updated packages.\n"
     ]
    }
   ],
   "source": [
    "%pip install -q vectara-skunk-client"
   ]
  },
  {
   "cell_type": "markdown",
   "id": "82fe67a3-a43e-48f4-92b9-1dd0dd70cb4a",
   "metadata": {},
   "source": [
    "## Initialize our Client\n",
    "We've tried to make this SDK as streamlined as\n",
    "possible to reduce boilerplate in your codebase. Behind the scenes\n",
    "this code is using implicit configuration to use our OAuth2\n",
    "authentication which provides access to all admin APIs."
   ]
  },
  {
   "cell_type": "code",
   "execution_count": 2,
   "id": "ea483b08-edf2-44f2-9205-883bb6414f27",
   "metadata": {},
   "outputs": [
    {
     "name": "stderr",
     "output_type": "stream",
     "text": [
      "19:05:25 +1000:Factory                             INFO:initializing builder\n",
      "19:05:25 +1000:Factory                             INFO:Factory will load configuration from home directory\n",
      "19:05:25 +1000:HomeConfigLoader                    INFO:Loading configuration from users home directory [C:\\Users\\david]\n",
      "19:05:25 +1000:HomeConfigLoader                    INFO:Loading default configuration [default]\n",
      "19:05:25 +1000:HomeConfigLoader                    INFO:Parsing config\n",
      "19:05:25 +1000:root                                INFO:We are processing authentication type [OAuth2]\n",
      "19:05:25 +1000:root                                INFO:initializing Client\n"
     ]
    }
   ],
   "source": [
    "from vectara_client.core import Factory\n",
    "from vectara_client.admin import CorpusBuilder\n",
    "import logging\n",
    "\n",
    "logging.basicConfig(format='%(asctime)s:%(name)-35s %(levelname)s:%(message)s', level=logging.INFO, datefmt='%H:%M:%S %z')\n",
    "logging.getLogger(\"OAuthUtil\").setLevel(logging.WARNING)\n",
    "logger = logging.getLogger(__name__)\n",
    "\n",
    "\n",
    "client = Factory().build()\n",
    "manager = client.corpus_manager"
   ]
  },
  {
   "cell_type": "markdown",
   "id": "130bee52-61ca-4b2f-b12b-0073106bebc4",
   "metadata": {},
   "source": [
    "## Create our Corpus\n",
    "We'll now use convenience class \"CorpusManager\" to create our first corpus \"meetup-general\". This has no special configuration."
   ]
  },
  {
   "cell_type": "code",
   "execution_count": 3,
   "id": "d68f6531-f6fa-496b-a5cb-ed5860d29000",
   "metadata": {},
   "outputs": [
    {
     "name": "stderr",
     "output_type": "stream",
     "text": [
      "19:05:54 +1000:CorpusManager                       INFO:Performing account checks before corpus creation for name [meetup-general]\n",
      "19:05:56 +1000:RequestUtil                         INFO:URL for operation list-corpora is: https://api.vectara.io/v1/list-corpora\n",
      "19:05:57 +1000:CorpusManager                       INFO:We found the following corpora with name [meetup-general]: []\n",
      "19:05:57 +1000:CorpusManager                       INFO:Account checks complete, creating the new corpus\n",
      "19:05:57 +1000:RequestUtil                         INFO:URL for operation create-corpus is: https://api.vectara.io/v1/create-corpus\n",
      "19:06:00 +1000:AdminService                        INFO:Created new corpus with 729\n"
     ]
    }
   ],
   "source": [
    "corpus = CorpusBuilder(\"meetup-general\").build()\n",
    "corpus_id = manager.create_corpus(corpus, delete_existing=True)"
   ]
  },
  {
   "cell_type": "markdown",
   "id": "aed3acd5-bc76-49bd-9654-281137df76ef",
   "metadata": {},
   "source": [
    "## Load our Corpus\n",
    "We'll now load our general corpus with content from the folder \"../resources/general\"\n",
    "\n",
    "We can directly ingest data in Word (docx) format as well as many others."
   ]
  },
  {
   "cell_type": "code",
   "execution_count": 4,
   "id": "f7f45f0a-0410-45d6-8dfe-5e1d154a1d67",
   "metadata": {},
   "outputs": [
    {
     "name": "stderr",
     "output_type": "stream",
     "text": [
      "19:06:35 +1000:IndexerService                      INFO:Headers: {\"c\": \"1623270172\", \"o\": \"729\"}\n",
      "About Us.docx: 14.4kB [00:03, 4.44kB/s]                                                                                \n"
     ]
    }
   ],
   "source": [
    "from pathlib import Path\n",
    "\n",
    "for path in Path(\"../resources/general\").glob(\"*.docx\"):\n",
    "    client.indexer_service.upload(corpus_id, path)\n",
    "    "
   ]
  },
  {
   "cell_type": "markdown",
   "id": "afbc758e-2646-4134-9618-053c93113672",
   "metadata": {},
   "source": [
    "## Test the Corpus\n",
    "We'll now run a few test questions to confirm we get a good response"
   ]
  },
  {
   "cell_type": "code",
   "execution_count": 5,
   "id": "733c8273-273a-4685-b096-74b305625ed3",
   "metadata": {},
   "outputs": [
    {
     "name": "stderr",
     "output_type": "stream",
     "text": [
      "19:06:54 +1000:RequestUtil                         INFO:URL for operation query is: https://api.vectara.io/v1/query\n",
      "19:07:00 +1000:__main__                            INFO:Response was: The motto for DataEngBytes is \"Run by data engineers, for data engineers\" [4]. DataEngBytes was established in 2019 as an evolution from a data engineering meetup in Sydney, aiming to fill a gap in technical dialogue and community engagement [1][3]. It quickly evolved into a full-day conference and plays an important role in highlighting the work of data engineers in Australia and New Zealand, positioning the region as a global epicenter of data engineering innovation [2][3][5].\n"
     ]
    }
   ],
   "source": [
    "response = client.query_service.query(\n",
    "    \"what is the motto for DataEngBytes?\", corpus_id, summary=True, \n",
    "    summarizer=\"vectara-summary-ext-v1.3.0\", summary_result_count=5)\n",
    "logger.info(f\"Response was: {response.summary[0].text}\")"
   ]
  },
  {
   "cell_type": "code",
   "execution_count": 6,
   "id": "4f1f1638-1924-47f6-92e7-cfb800d2b7e3",
   "metadata": {},
   "outputs": [
    {
     "name": "stderr",
     "output_type": "stream",
     "text": [
      "19:07:28 +1000:RequestUtil                         INFO:URL for operation query is: https://api.vectara.io/v1/query\n",
      "19:07:35 +1000:__main__                            INFO:Response was: The event organizer for DataEngBytes, a conference highlighting the work of data engineers in Australia and New Zealand, is Alicia Cheah [1][3][5]. DataEngBytes was established in 2019 and has evolved to include in-person events in various Australian cities and New Zealand [4]. The core team also includes Peter Hanssens as the founder and Mohammed Alim as the marketing coordinator [1][3][5].\n"
     ]
    }
   ],
   "source": [
    "response = client.query_service.query(\n",
    "    \"Who is the event organizer?\", corpus_id, summary=True, \n",
    "    summarizer=\"vectara-summary-ext-v1.3.0\", summary_result_count=5)\n",
    "logger.info(f\"Response was: {response.summary[0].text}\")"
   ]
  }
 ],
 "metadata": {
  "kernelspec": {
   "display_name": "Python 3 (ipykernel)",
   "language": "python",
   "name": "python3"
  },
  "language_info": {
   "codemirror_mode": {
    "name": "ipython",
    "version": 3
   },
   "file_extension": ".py",
   "mimetype": "text/x-python",
   "name": "python",
   "nbconvert_exporter": "python",
   "pygments_lexer": "ipython3",
   "version": "3.12.1"
  }
 },
 "nbformat": 4,
 "nbformat_minor": 5
}
